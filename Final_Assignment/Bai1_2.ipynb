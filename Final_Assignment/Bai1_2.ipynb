{
 "cells": [
  {
   "cell_type": "markdown",
   "metadata": {},
   "source": [
    "Bài 1:\n",
    "Yêu cầu:  Viết chương trình tính toán thống kê trong một ma trận\n",
    "Bạn được cung cấp một ma trận 2D đại diện cho dữ liệu điểm số của các học sinh trong một lớp học. Mỗi hàng của ma trận đại diện cho một học sinh và mỗi cột đại diện cho một bài kiểm tra. Bạn cần viết một hàm để thực hiện các phép tính thống kê sau trên ma trận:\n",
    "Tính điểm trung bình của mỗi học sinh.\n",
    "Tìm học sinh có điểm trung bình cao nhất và trả về chỉ số (dòng) của học sinh đó.\n",
    "Tìm bài kiểm tra có điểm trung bình cao nhất và trả về chỉ số (cột) của bài kiểm tra đó.\n"
   ]
  },
  {
   "cell_type": "code",
   "execution_count": 13,
   "metadata": {},
   "outputs": [
    {
     "name": "stdout",
     "output_type": "stream",
     "text": [
      "Điểm trung bình của các học viên: [88.0, 79.66666666666667, 95.0]\n",
      "Học sinh có điểm trung bình cao nhất: 3\n",
      "Bài kiểm tra có điểm trung bình cao nhất: 3\n"
     ]
    }
   ],
   "source": [
    "def calculate_statistics(matrix):\n",
    "    student = len(matrix)\n",
    "    test = len(matrix[0])\n",
    "    dien_tb = []\n",
    "    for row in matrix:\n",
    "        dien_tb1 = sum(row) / test\n",
    "        dien_tb.append(dien_tb1)\n",
    "\n",
    "    max_dien_tb1 = max(dien_tb)\n",
    "    max_dien_tb1_index = dien_tb.index(max_dien_tb1) + 1\n",
    "    dien_tb_per_test = []\n",
    "    for col in range(test):\n",
    "        total_score = 0\n",
    "        for row in matrix:\n",
    "            total_score += row[col]\n",
    "        dien_tb1_per_test = total_score / student\n",
    "        dien_tb_per_test.append(dien_tb1_per_test)\n",
    "\n",
    "    max_dien_tb1_per_test = max(dien_tb_per_test)\n",
    "    max_dien_tb1_per_test_index = dien_tb_per_test.index(max_dien_tb1_per_test) + 1\n",
    "\n",
    "    return (dien_tb, max_dien_tb1_index, max_dien_tb1_per_test_index)\n",
    "matrix = [[85, 90, 89],\n",
    "          [78, 82, 79],\n",
    "          [91, 94, 100]]\n",
    "result = calculate_statistics(matrix)\n",
    "print('Điểm trung bình của các học viên:',result[0])\n",
    "print('Học sinh có điểm trung bình cao nhất:',result[1])\n",
    "print('Bài kiểm tra có điểm trung bình cao nhất:',result[2])"
   ]
  },
  {
   "cell_type": "markdown",
   "metadata": {},
   "source": [
    "Bài 2:\n",
    "Yêu cầu: Viết chương trình:\n",
    "Hãy viết chương trình:\n",
    "Cho phép người dùng nhập vào một chuỗi.\n",
    "Chương trình sẽ tính và in ra số lượng ký tự hoa và số lượng ký tự thường có trong chuỗi\n",
    "Gợi ý: Xây dựng hàm dem_ky_tu(chuoi) trả về số lượng ký tự hoa và thường\n"
   ]
  },
  {
   "cell_type": "code",
   "execution_count": 15,
   "metadata": {},
   "outputs": [
    {
     "name": "stdout",
     "output_type": "stream",
     "text": [
      "Số lượng ký tự hoa trong chuỗi là: 0\n",
      "Số lượng ký tự thường trong chuỗi là: 8\n"
     ]
    }
   ],
   "source": [
    "def dem_ky_tu(chuoi):\n",
    "    count_hoa = 0\n",
    "    count_thuong = 0\n",
    "\n",
    "    for char in chuoi:\n",
    "        if char.isupper():\n",
    "            count_hoa += 1\n",
    "        elif char.islower():\n",
    "            count_thuong += 1\n",
    "    return count_hoa, count_thuong\n",
    "chuoi = input(\"Nhập vào một chuỗi: \")\n",
    "so_luong_hoa, so_luong_thuong = dem_ky_tu(chuoi)\n",
    "print(\"Số lượng ký tự hoa trong chuỗi là:\", so_luong_hoa)\n",
    "print(\"Số lượng ký tự thường trong chuỗi là:\", so_luong_thuong)\n"
   ]
  },
  {
   "cell_type": "markdown",
   "metadata": {},
   "source": []
  },
  {
   "cell_type": "code",
   "execution_count": 16,
   "metadata": {},
   "outputs": [
    {
     "name": "stdout",
     "output_type": "stream",
     "text": [
      "===== Quản lý trò chơi =====\n",
      "1. Xem danh sách trò chơi\n",
      "2. Thêm trò chơi mới\n",
      "3. Cập nhật thông tin trò chơi\n",
      "4. Xóa thông tin trò chơi\n",
      "5. Tìm kiếm trò chơi\n",
      "6. Sắp xếp danh sách trò chơi\n",
      "0. Thoát\n"
     ]
    },
    {
     "ename": "KeyboardInterrupt",
     "evalue": "Interrupted by user",
     "output_type": "error",
     "traceback": [
      "\u001b[1;31m---------------------------------------------------------------------------\u001b[0m",
      "\u001b[1;31mKeyboardInterrupt\u001b[0m                         Traceback (most recent call last)",
      "Cell \u001b[1;32mIn[16], line 111\u001b[0m\n\u001b[0;32m    107\u001b[0m             \u001b[38;5;28mprint\u001b[39m(\u001b[38;5;124m\"\u001b[39m\u001b[38;5;124mLựa chọn không hợp lệ. Vui lòng thử lại.\u001b[39m\u001b[38;5;124m\"\u001b[39m)\n\u001b[0;32m    110\u001b[0m \u001b[38;5;28;01mif\u001b[39;00m \u001b[38;5;18m__name__\u001b[39m \u001b[38;5;241m==\u001b[39m \u001b[38;5;124m\"\u001b[39m\u001b[38;5;124m__main__\u001b[39m\u001b[38;5;124m\"\u001b[39m:\n\u001b[1;32m--> 111\u001b[0m     \u001b[43mmain\u001b[49m\u001b[43m(\u001b[49m\u001b[43m)\u001b[49m\n",
      "Cell \u001b[1;32mIn[16], line 80\u001b[0m, in \u001b[0;36mmain\u001b[1;34m()\u001b[0m\n\u001b[0;32m     78\u001b[0m \u001b[38;5;28;01mwhile\u001b[39;00m \u001b[38;5;28;01mTrue\u001b[39;00m:\n\u001b[0;32m     79\u001b[0m     display_menu()\n\u001b[1;32m---> 80\u001b[0m     choice \u001b[38;5;241m=\u001b[39m \u001b[38;5;28;43minput\u001b[39;49m\u001b[43m(\u001b[49m\u001b[38;5;124;43m\"\u001b[39;49m\u001b[38;5;124;43mNhập lựa chọn của bạn: \u001b[39;49m\u001b[38;5;124;43m\"\u001b[39;49m\u001b[43m)\u001b[49m\n\u001b[0;32m     82\u001b[0m     \u001b[38;5;28;01mif\u001b[39;00m choice \u001b[38;5;241m==\u001b[39m \u001b[38;5;124m\"\u001b[39m\u001b[38;5;124m1\u001b[39m\u001b[38;5;124m\"\u001b[39m:\n\u001b[0;32m     83\u001b[0m         game_catalog\u001b[38;5;241m.\u001b[39mdisplay_games()\n",
      "File \u001b[1;32mc:\\Users\\Admin\\anaconda3\\lib\\site-packages\\ipykernel\\kernelbase.py:1175\u001b[0m, in \u001b[0;36mKernel.raw_input\u001b[1;34m(self, prompt)\u001b[0m\n\u001b[0;32m   1171\u001b[0m \u001b[39mif\u001b[39;00m \u001b[39mnot\u001b[39;00m \u001b[39mself\u001b[39m\u001b[39m.\u001b[39m_allow_stdin:\n\u001b[0;32m   1172\u001b[0m     \u001b[39mraise\u001b[39;00m StdinNotImplementedError(\n\u001b[0;32m   1173\u001b[0m         \u001b[39m\"\u001b[39m\u001b[39mraw_input was called, but this frontend does not support input requests.\u001b[39m\u001b[39m\"\u001b[39m\n\u001b[0;32m   1174\u001b[0m     )\n\u001b[1;32m-> 1175\u001b[0m \u001b[39mreturn\u001b[39;00m \u001b[39mself\u001b[39;49m\u001b[39m.\u001b[39;49m_input_request(\n\u001b[0;32m   1176\u001b[0m     \u001b[39mstr\u001b[39;49m(prompt),\n\u001b[0;32m   1177\u001b[0m     \u001b[39mself\u001b[39;49m\u001b[39m.\u001b[39;49m_parent_ident[\u001b[39m\"\u001b[39;49m\u001b[39mshell\u001b[39;49m\u001b[39m\"\u001b[39;49m],\n\u001b[0;32m   1178\u001b[0m     \u001b[39mself\u001b[39;49m\u001b[39m.\u001b[39;49mget_parent(\u001b[39m\"\u001b[39;49m\u001b[39mshell\u001b[39;49m\u001b[39m\"\u001b[39;49m),\n\u001b[0;32m   1179\u001b[0m     password\u001b[39m=\u001b[39;49m\u001b[39mFalse\u001b[39;49;00m,\n\u001b[0;32m   1180\u001b[0m )\n",
      "File \u001b[1;32mc:\\Users\\Admin\\anaconda3\\lib\\site-packages\\ipykernel\\kernelbase.py:1217\u001b[0m, in \u001b[0;36mKernel._input_request\u001b[1;34m(self, prompt, ident, parent, password)\u001b[0m\n\u001b[0;32m   1214\u001b[0m             \u001b[39mbreak\u001b[39;00m\n\u001b[0;32m   1215\u001b[0m \u001b[39mexcept\u001b[39;00m \u001b[39mKeyboardInterrupt\u001b[39;00m:\n\u001b[0;32m   1216\u001b[0m     \u001b[39m# re-raise KeyboardInterrupt, to truncate traceback\u001b[39;00m\n\u001b[1;32m-> 1217\u001b[0m     \u001b[39mraise\u001b[39;00m \u001b[39mKeyboardInterrupt\u001b[39;00m(\u001b[39m\"\u001b[39m\u001b[39mInterrupted by user\u001b[39m\u001b[39m\"\u001b[39m) \u001b[39mfrom\u001b[39;00m \u001b[39mNone\u001b[39m\n\u001b[0;32m   1218\u001b[0m \u001b[39mexcept\u001b[39;00m \u001b[39mException\u001b[39;00m:\n\u001b[0;32m   1219\u001b[0m     \u001b[39mself\u001b[39m\u001b[39m.\u001b[39mlog\u001b[39m.\u001b[39mwarning(\u001b[39m\"\u001b[39m\u001b[39mInvalid Message:\u001b[39m\u001b[39m\"\u001b[39m, exc_info\u001b[39m=\u001b[39m\u001b[39mTrue\u001b[39;00m)\n",
      "\u001b[1;31mKeyboardInterrupt\u001b[0m: Interrupted by user"
     ]
    }
   ],
   "source": []
  }
 ],
 "metadata": {
  "kernelspec": {
   "display_name": "Python 3.10.9 ('base')",
   "language": "python",
   "name": "python3"
  },
  "language_info": {
   "codemirror_mode": {
    "name": "ipython",
    "version": 3
   },
   "file_extension": ".py",
   "mimetype": "text/x-python",
   "name": "python",
   "nbconvert_exporter": "python",
   "pygments_lexer": "ipython3",
   "version": "3.10.9"
  },
  "orig_nbformat": 4,
  "vscode": {
   "interpreter": {
    "hash": "2043299c89c8cd0b4d1a6f5cf4529bd58e6a4e0fe3181a25e0d328c821cdc5c5"
   }
  }
 },
 "nbformat": 4,
 "nbformat_minor": 2
}
